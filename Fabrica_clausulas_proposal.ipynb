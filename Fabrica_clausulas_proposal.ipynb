{
 "cells": [
  {
   "cell_type": "code",
   "execution_count": 78,
   "id": "hired-garbage",
   "metadata": {},
   "outputs": [],
   "source": [
    "def clausula_000(gen_p ='masc',cant_p = 'sing',gen_c = 'masc',cant_c = 'sing'):\n",
    "    \"\"\"\n",
    "    Función que imprime la clausula 000 sobre Secreto Profesional y Confidencialidad.\n",
    "    \n",
    "    Inputs:\n",
    "    \n",
    "    Prestador\n",
    "        gen_p = Genero(masc o fem)\n",
    "        cant_p = Cantidad(sing o plu)\n",
    "    Cliente\n",
    "        gen_c = Genero(masc o fem)\n",
    "        cant_c = Cantidad(sing o plu)\n",
    "    \n",
    "    Outputs:\n",
    "    \n",
    "    + Clausula inteligente\n",
    "    + Obligaciones \n",
    "    \"\"\"\n",
    "    \n",
    "    ##################################\n",
    "    #        I. REGLAS DE ENTRADA    #\n",
    "    ##################################\n",
    "    #En esta parte solamente se lanza una alarma si el input es diferente al esperado\n",
    "    \n",
    "    generos = ['fem', 'masc']\n",
    "    if (gen_p or gen_c) not in generos:\n",
    "        raise ValueError(\"Invalid gender. Expected one of: %s\" % generos)\n",
    "        \n",
    "    cantidades = ['sing', 'plu']\n",
    "    if (cant_p or cant_c) not in cantidades:\n",
    "        raise ValueError(\"Invalid quantity. Expected one of: %s\" % cantidades)\n",
    "        \n",
    "    ##################################\n",
    "    #     II. Reglas gramaticales    #\n",
    "    ##################################  \n",
    "    #En esta parte se diseña la gramática de la clausula.\n",
    "    \n",
    "    #Se puede modificar:\n",
    "    #+ pronombre directo e indirecto, \n",
    "    #+ articulo directo e indirecto, \n",
    "    #+ la palabra para referirse al cliente o profesionista \n",
    "    #+ el verbo que se conjuga.\n",
    "    \n",
    "    #Noteque que es el masculino es el neutral (abierto a debate)\n",
    "    \n",
    "    # Para el prestador\n",
    "    if gen_p == 'masc'and cant_p == 'sing':\n",
    "        prestador = \"Profesionista\"\n",
    "        art_di_p = \"el \"\n",
    "        caps_art_di_p = \"El \"\n",
    "        conj_p = 'á'\n",
    "        conj_alt_plur_p = ''\n",
    "        art_indi_p = \"del \"\n",
    "\n",
    "    elif gen_p == 'fem'and cant_p == 'sing':\n",
    "        prestador = \"Profesionista\"\n",
    "        art_di_p = \"la \"\n",
    "        caps_art_di_p = \"La \" \n",
    "        conj_p = 'á'\n",
    "        conj_alt_plur_p = ''\n",
    "        art_indi_p = \"de la \"\n",
    "\n",
    "    else:\n",
    "        prestador = \"Profesionistas\"\n",
    "        art_di_p = \"los \"\n",
    "        caps_art_di_p = \"Los \"\n",
    "        conj_p = 'án'\n",
    "        conj_alt_plur_p = 'n'\n",
    "        art_indi_p = \"de los \"\n",
    "\n",
    "        \n",
    "        \n",
    "    # Para el cliente\n",
    "\n",
    "    if gen_c == 'masc'and cant_c == 'sing':\n",
    "        cliente = \"Cliente\"\n",
    "        art_di_c = \"el \"\n",
    "        caps_art_di_c = \"El \"\n",
    "        conj_c = 'á'\n",
    "        conj_alt_plur_c = ''\n",
    "        art_indi_c = \"del \"\n",
    "\n",
    "    elif gen_c == 'fem' and cant_c == 'sing':\n",
    "        cliente = \"Clienta\"\n",
    "        art_di_c = \"la \"\n",
    "        caps_art_di_c = \"La \" \n",
    "        conj_c = 'á'\n",
    "        conj_alt_plur_c = ''\n",
    "        art_indi_c = \"de la \"\n",
    "\n",
    "    else:\n",
    "        cliente = \"Clientes\"\n",
    "        art_di_c = \"los \"\n",
    "        caps_art_di_c = \"Los \"\n",
    "        conj_c = 'án'\n",
    "        conj_alt_plur_c = 'n'\n",
    "        art_indi_c = \"de los \"\n",
    "\n",
    "\n",
    "  \n",
    "    ##################################\n",
    "    #     III. Text Factory.         #\n",
    "    ##################################  \n",
    "    \n",
    "    id_clausula = \"clásula .- Secreto Profesional y confidencialidad. \"\n",
    "    \n",
    "    body = (caps_art_di_p + prestador + \" guardar\" + conj_p +\n",
    "    \" en confidencia y resguardo absoluto, cualquier información proporcionada por \" \n",
    "    + art_di_c + cliente + \" durante la vigencia de este Contrato en relación con los \\\n",
    "servicios materia del mismo. La obligación de mantener el secreto profesional perdurará \\\n",
    "aun después de ejecutado o agotada la vigencia de este Contrato. \"\n",
    "    + caps_art_di_p + prestador + \" reconoce\" + conj_alt_plur_p + \" que durante la prestación \\\n",
    "de los servicios profesionales objeto de este contrato conocer\" + conj_p + \" información \"\n",
    "    + art_indi_c + cliente + \" que es confidencial, incluyendo secretos industriales e información \\\n",
    "técnica. Dicha información deberá permanecer de la exclusiva propiedad \" + art_indi_c + cliente \n",
    "    + \" y \" + art_di_p + prestador + \" deber\"+ conj_p + \" conservarla en estricta confidencialidad, \\\n",
    "obligándose a no revelarla a tercero alguno sin el consentimiento \" + art_indi_c + cliente + \".\")\n",
    "    \n",
    "    print(body)\n",
    "\n",
    "\n"
   ]
  },
  {
   "cell_type": "code",
   "execution_count": 79,
   "id": "weekly-precipitation",
   "metadata": {},
   "outputs": [
    {
     "name": "stdout",
     "output_type": "stream",
     "text": [
      "La Profesionista guardará en confidencia y resguardo absoluto, cualquier información proporcionada por los Clientes durante la vigencia de este Contrato en relación con los servicios materia del mismo. La obligación de mantener el secreto profesional perdurará aun después de ejecutado o agotada la vigencia de este Contrato. La Profesionista reconoce que durante la prestación de los servicios profesionales objeto de este contrato conocerá información de los Clientes que es confidencial, incluyendo secretos industriales e información técnica. Dicha información deberá permanecer de la exclusiva propiedad de los Clientes y la Profesionista deberá conservarla en estricta confidencialidad, obligándose a no revelarla a tercero alguno sin el consentimiento de los Clientes.\n"
     ]
    }
   ],
   "source": [
    "#PRUEBAS\n",
    "\n",
    "##  Una profesionista vs muchos clientes\n",
    "\n",
    "clausula_000(gen_p='fem',cant_p='sing',gen_c='fem',cant_c='plu')"
   ]
  },
  {
   "cell_type": "code",
   "execution_count": 80,
   "id": "musical-developer",
   "metadata": {},
   "outputs": [
    {
     "name": "stdout",
     "output_type": "stream",
     "text": [
      "Los Profesionistas guardarán en confidencia y resguardo absoluto, cualquier información proporcionada por la Clienta durante la vigencia de este Contrato en relación con los servicios materia del mismo. La obligación de mantener el secreto profesional perdurará aun después de ejecutado o agotada la vigencia de este Contrato. Los Profesionistas reconocen que durante la prestación de los servicios profesionales objeto de este contrato conocerán información de la Clienta que es confidencial, incluyendo secretos industriales e información técnica. Dicha información deberá permanecer de la exclusiva propiedad de la Clienta y los Profesionistas deberán conservarla en estricta confidencialidad, obligándose a no revelarla a tercero alguno sin el consentimiento de la Clienta.\n"
     ]
    }
   ],
   "source": [
    "## Profesionistas vs una clienta\n",
    "\n",
    "clausula_000(gen_p='masc',cant_p='plu',gen_c='fem',cant_c='sing')"
   ]
  },
  {
   "cell_type": "code",
   "execution_count": 81,
   "id": "hundred-knock",
   "metadata": {},
   "outputs": [
    {
     "name": "stdout",
     "output_type": "stream",
     "text": [
      "Los Profesionistas guardarán en confidencia y resguardo absoluto, cualquier información proporcionada por los Clientes durante la vigencia de este Contrato en relación con los servicios materia del mismo. La obligación de mantener el secreto profesional perdurará aun después de ejecutado o agotada la vigencia de este Contrato. Los Profesionistas reconocen que durante la prestación de los servicios profesionales objeto de este contrato conocerán información de los Clientes que es confidencial, incluyendo secretos industriales e información técnica. Dicha información deberá permanecer de la exclusiva propiedad de los Clientes y los Profesionistas deberán conservarla en estricta confidencialidad, obligándose a no revelarla a tercero alguno sin el consentimiento de los Clientes.\n"
     ]
    }
   ],
   "source": [
    "## Profesionistas vs clientes\n",
    "\n",
    "clausula_000(gen_p='masc',cant_p='plu',gen_c='fem',cant_c='plu')"
   ]
  },
  {
   "cell_type": "code",
   "execution_count": 82,
   "id": "characteristic-devices",
   "metadata": {},
   "outputs": [
    {
     "name": "stdout",
     "output_type": "stream",
     "text": [
      "El Profesionista guardará en confidencia y resguardo absoluto, cualquier información proporcionada por la Clienta durante la vigencia de este Contrato en relación con los servicios materia del mismo. La obligación de mantener el secreto profesional perdurará aun después de ejecutado o agotada la vigencia de este Contrato. El Profesionista reconoce que durante la prestación de los servicios profesionales objeto de este contrato conocerá información de la Clienta que es confidencial, incluyendo secretos industriales e información técnica. Dicha información deberá permanecer de la exclusiva propiedad de la Clienta y el Profesionista deberá conservarla en estricta confidencialidad, obligándose a no revelarla a tercero alguno sin el consentimiento de la Clienta.\n"
     ]
    }
   ],
   "source": [
    "## Profesionista hombre vs cliente hombre\n",
    "\n",
    "clausula_000(gen_p='masc',cant_p='sing',gen_c='fem',cant_c='sing')"
   ]
  },
  {
   "cell_type": "code",
   "execution_count": 83,
   "id": "satisfied-particle",
   "metadata": {},
   "outputs": [
    {
     "name": "stdout",
     "output_type": "stream",
     "text": [
      "La Profesionista guardará en confidencia y resguardo absoluto, cualquier información proporcionada por la Clienta durante la vigencia de este Contrato en relación con los servicios materia del mismo. La obligación de mantener el secreto profesional perdurará aun después de ejecutado o agotada la vigencia de este Contrato. La Profesionista reconoce que durante la prestación de los servicios profesionales objeto de este contrato conocerá información de la Clienta que es confidencial, incluyendo secretos industriales e información técnica. Dicha información deberá permanecer de la exclusiva propiedad de la Clienta y la Profesionista deberá conservarla en estricta confidencialidad, obligándose a no revelarla a tercero alguno sin el consentimiento de la Clienta.\n"
     ]
    }
   ],
   "source": [
    "## Profesionista mujer vs cliente mujer\n",
    "\n",
    "clausula_000(gen_p='fem',cant_p='sing',gen_c='fem',cant_c='sing')"
   ]
  },
  {
   "cell_type": "code",
   "execution_count": null,
   "id": "olive-harris",
   "metadata": {},
   "outputs": [],
   "source": []
  }
 ],
 "metadata": {
  "kernelspec": {
   "display_name": "Python 3",
   "language": "python",
   "name": "python3"
  },
  "language_info": {
   "codemirror_mode": {
    "name": "ipython",
    "version": 3
   },
   "file_extension": ".py",
   "mimetype": "text/x-python",
   "name": "python",
   "nbconvert_exporter": "python",
   "pygments_lexer": "ipython3",
   "version": "3.8.5"
  }
 },
 "nbformat": 4,
 "nbformat_minor": 5
}
